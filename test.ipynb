{
 "cells": [
  {
   "cell_type": "code",
   "execution_count": 11,
   "metadata": {},
   "outputs": [],
   "source": [
    "import DataHanteringClass\n",
    "\n",
    "if __name__ == \"__main__\":\n",
    "    \n",
    "    test = DataHanteringClass.DataHantering(\"vaccin_covid.csv\", \n",
    "                                    \"covid_database.db\",\"covidVaccin\")\n",
    "    \n",
    "    test.seperate_col(\"vaccines\", \",\")\n",
    "    \n",
    "    test.create_database()\n",
    "\n",
    " "
   ]
  },
  {
   "cell_type": "code",
   "execution_count": 12,
   "metadata": {},
   "outputs": [],
   "source": [
    "\n",
    "    def seperate_col(self, columnName, seperator): #seperate (vaccines) function\n",
    "        self.columnName = columnName\n",
    "        self.seperator = seperator\n",
    "        split = self.df[self.columnName].str.split(self.seperator, expand = True)\n",
    "        self.df = self.df.join(split)\n",
    "        del self.df[self.columnName]\n",
    "        self.df.rename(columns ={0: 'Vaccine 1', 1: 'Vaccine 2',2: 'Vaccine 3', 3: 'Vaccine 4',\n",
    "                                    5: 'Vaccine 6', 6: 'Vaccine 7'}, inplace = True)"
   ]
  },
  {
   "cell_type": "code",
   "execution_count": 13,
   "metadata": {},
   "outputs": [],
   "source": [
    "def daily_vaccine(self, dailyTableName, countryTableName, pathName):\n",
    "        self.dailyTableName = dailyTableName\n",
    "        self.countryTableName = countryTableName\n",
    "        self.pathName = pathName\n",
    "\n",
    "        try:\n",
    "            self.cur.execute(f\"\"\"CREATE TABLE {dailyTableName}(\n",
    "                            (country,date) PRIMARY KEY AUTOINCREMENT.\n",
    "                            daily text is null,\n",
    "                            iso_code text is null,\n",
    "                            daily_vaccinations,\n",
    "                            daily_vaccinations_raw\n",
    "                            )\n",
    "                        \"\"\")\n",
    "        except Exception:\n",
    "            pass\n",
    "        self.db.commit\n",
    "    "
   ]
  },
  {
   "cell_type": "code",
   "execution_count": null,
   "metadata": {},
   "outputs": [],
   "source": [
    "('Vaccine 1', 'Vaccine 2','Vaccine 3','Vaccine 4','Vaccine 6','Vaccine 7')"
   ]
  }
 ],
 "metadata": {
  "interpreter": {
   "hash": "6245bcea59073d1dc114fc8489cf0d53b4dc44df4ad537f02e44c1d0050d8e6a"
  },
  "kernelspec": {
   "display_name": "Python 3.9.7 64-bit ('test_env': conda)",
   "language": "python",
   "name": "python3"
  },
  "language_info": {
   "codemirror_mode": {
    "name": "ipython",
    "version": 3
   },
   "file_extension": ".py",
   "mimetype": "text/x-python",
   "name": "python",
   "nbconvert_exporter": "python",
   "pygments_lexer": "ipython3",
   "version": "3.9.7"
  },
  "orig_nbformat": 4
 },
 "nbformat": 4,
 "nbformat_minor": 2
}
